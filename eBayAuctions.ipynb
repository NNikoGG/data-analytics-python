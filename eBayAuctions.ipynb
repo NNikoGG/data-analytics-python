{
 "cells": [
  {
   "cell_type": "markdown",
   "metadata": {},
   "source": [
    "#### eBayAuctions.csv shows transactions of recent auctions on eBay.com. The goal is to use these data to build a model that classifies auctions as competitive or noncompetitive. A competitive auction is defined as an auction with at least two bids placed on the item auctioned. The data include variables that describe the item (auction category), the seller (his/her eBay rating), and the auction terms that the seller selected (auction duration, opening price, currency, day-of-week of auction close). In addition, we have the price at which the auction closed. The task is to predict whether or not the auction will be competitive.\n",
    "\n",
    "#### a. Convert variable duration into a categorical variable. Split the data into training (60%) and validation (40%) datasets.\n",
    "\n",
    "#### b. Fit a classification tree. To avoid overfitting, set the minimum number of records in a terminal node to 50 and the maximum tree depth to 7. What is the classification of an auction with 3 dollars open price and 12 dollars closed price?\n",
    "\n",
    "#### c. Examine the lift chart and the confusion matrix for the tree. What can you say about the predictive performance of this model?\n",
    "\n",
    "#### d. Fit a kNN with normalized inputs. What value of k seems to work best? \n",
    "\n",
    "#### e. Show an ROC curve to compare the results of classification tree and kNN. Which method is more accurate?\n"
   ]
  },
  {
   "cell_type": "code",
   "execution_count": 1,
   "metadata": {
    "colab": {
     "base_uri": "https://localhost:8080/"
    },
    "id": "h-IONA82A8Qu",
    "outputId": "0f0afadb-139b-4a1e-f675-3bf20f7fad64"
   },
   "outputs": [
    {
     "name": "stdout",
     "output_type": "stream",
     "text": [
      "Requirement already satisfied: dmba in c:\\users\\nitis\\appdata\\local\\programs\\python\\python311\\lib\\site-packages (0.2.4)\n",
      "Requirement already satisfied: graphviz in c:\\users\\nitis\\appdata\\local\\programs\\python\\python311\\lib\\site-packages (from dmba) (0.20.1)\n",
      "Requirement already satisfied: matplotlib in c:\\users\\nitis\\appdata\\local\\programs\\python\\python311\\lib\\site-packages (from dmba) (3.7.1)\n",
      "Requirement already satisfied: numpy in c:\\users\\nitis\\appdata\\local\\programs\\python\\python311\\lib\\site-packages (from dmba) (1.23.5)\n",
      "Requirement already satisfied: pandas in c:\\users\\nitis\\appdata\\local\\programs\\python\\python311\\lib\\site-packages (from dmba) (2.0.1)\n",
      "Requirement already satisfied: scikit-learn in c:\\users\\nitis\\appdata\\local\\programs\\python\\python311\\lib\\site-packages (from dmba) (1.3.2)\n",
      "Requirement already satisfied: scipy in c:\\users\\nitis\\appdata\\local\\programs\\python\\python311\\lib\\site-packages (from dmba) (1.10.1)\n",
      "Requirement already satisfied: contourpy>=1.0.1 in c:\\users\\nitis\\appdata\\local\\programs\\python\\python311\\lib\\site-packages (from matplotlib->dmba) (1.0.7)\n",
      "Requirement already satisfied: cycler>=0.10 in c:\\users\\nitis\\appdata\\local\\programs\\python\\python311\\lib\\site-packages (from matplotlib->dmba) (0.11.0)\n",
      "Requirement already satisfied: fonttools>=4.22.0 in c:\\users\\nitis\\appdata\\local\\programs\\python\\python311\\lib\\site-packages (from matplotlib->dmba) (4.39.4)\n",
      "Requirement already satisfied: kiwisolver>=1.0.1 in c:\\users\\nitis\\appdata\\local\\programs\\python\\python311\\lib\\site-packages (from matplotlib->dmba) (1.4.4)\n",
      "Requirement already satisfied: packaging>=20.0 in c:\\users\\nitis\\appdata\\local\\programs\\python\\python311\\lib\\site-packages (from matplotlib->dmba) (23.1)\n",
      "Requirement already satisfied: pillow>=6.2.0 in c:\\users\\nitis\\appdata\\local\\programs\\python\\python311\\lib\\site-packages (from matplotlib->dmba) (9.5.0)\n",
      "Requirement already satisfied: pyparsing>=2.3.1 in c:\\users\\nitis\\appdata\\local\\programs\\python\\python311\\lib\\site-packages (from matplotlib->dmba) (3.0.9)\n",
      "Requirement already satisfied: python-dateutil>=2.7 in c:\\users\\nitis\\appdata\\local\\programs\\python\\python311\\lib\\site-packages (from matplotlib->dmba) (2.8.2)\n",
      "Requirement already satisfied: pytz>=2020.1 in c:\\users\\nitis\\appdata\\local\\programs\\python\\python311\\lib\\site-packages (from pandas->dmba) (2023.3)\n",
      "Requirement already satisfied: tzdata>=2022.1 in c:\\users\\nitis\\appdata\\local\\programs\\python\\python311\\lib\\site-packages (from pandas->dmba) (2023.3)\n",
      "Requirement already satisfied: joblib>=1.1.1 in c:\\users\\nitis\\appdata\\local\\programs\\python\\python311\\lib\\site-packages (from scikit-learn->dmba) (1.2.0)\n",
      "Requirement already satisfied: threadpoolctl>=2.0.0 in c:\\users\\nitis\\appdata\\local\\programs\\python\\python311\\lib\\site-packages (from scikit-learn->dmba) (3.1.0)\n",
      "Requirement already satisfied: six>=1.5 in c:\\users\\nitis\\appdata\\local\\programs\\python\\python311\\lib\\site-packages (from python-dateutil>=2.7->matplotlib->dmba) (1.16.0)\n",
      "Note: you may need to restart the kernel to use updated packages.\n"
     ]
    }
   ],
   "source": [
    "pip install dmba"
   ]
  },
  {
   "cell_type": "code",
   "execution_count": 2,
   "metadata": {},
   "outputs": [
    {
     "name": "stdout",
     "output_type": "stream",
     "text": [
      "Requirement already satisfied: openpyxl in c:\\users\\nitis\\appdata\\local\\programs\\python\\python311\\lib\\site-packages (3.1.2)\n",
      "Requirement already satisfied: et-xmlfile in c:\\users\\nitis\\appdata\\local\\programs\\python\\python311\\lib\\site-packages (from openpyxl) (1.1.0)\n",
      "Note: you may need to restart the kernel to use updated packages.\n"
     ]
    }
   ],
   "source": [
    "pip install openpyxl"
   ]
  },
  {
   "cell_type": "code",
   "execution_count": 3,
   "metadata": {
    "id": "08-ttIPKEWyX"
   },
   "outputs": [],
   "source": [
    "import pandas as pd\n",
    "import numpy as np\n",
    "from sklearn.tree import DecisionTreeClassifier, DecisionTreeRegressor\n",
    "from sklearn.model_selection import train_test_split, cross_val_score\n",
    "from sklearn.neighbors import KNeighborsClassifier, KNeighborsRegressor\n",
    "from sklearn import preprocessing\n",
    "import matplotlib.pylab as plt\n",
    "from dmba import plotDecisionTree, classificationSummary, regressionSummary\n",
    "from sklearn.metrics import accuracy_score, confusion_matrix, mean_squared_error\n",
    "from sklearn.linear_model import LinearRegression\n",
    "from sklearn.model_selection import train_test_split\n",
    "from sklearn.preprocessing import StandardScaler\n",
    "from sklearn.metrics import confusion_matrix, roc_curve, auc\n",
    "import statsmodels.formula.api as sm\n",
    "\n",
    "import seaborn as sns\n",
    "\n",
    "from dmba import regressionSummary, exhaustive_search\n",
    "from dmba import backward_elimination, forward_selection, stepwise_selection\n",
    "from dmba import adjusted_r2_score, AIC_score #, BIC_score\n"
   ]
  },
  {
   "cell_type": "code",
   "execution_count": 4,
   "metadata": {
    "id": "bgvjBV_vEZs2"
   },
   "outputs": [],
   "source": [
    "df = pd.read_csv('Datasets/eBayAuctions.csv')"
   ]
  },
  {
   "cell_type": "code",
   "execution_count": 5,
   "metadata": {
    "colab": {
     "base_uri": "https://localhost:8080/"
    },
    "id": "EBVgZzEzEav3",
    "outputId": "56da5d9f-67b7-4026-c6b7-fdac09d6fde2"
   },
   "outputs": [
    {
     "name": "stdout",
     "output_type": "stream",
     "text": [
      "Index(['Category', 'currency', 'sellerRating', 'Duration', 'endDay',\n",
      "       'ClosePrice', 'OpenPrice', 'Competitive?'],\n",
      "      dtype='object')\n"
     ]
    }
   ],
   "source": [
    "print(df.columns)"
   ]
  },
  {
   "cell_type": "code",
   "execution_count": 6,
   "metadata": {
    "colab": {
     "base_uri": "https://localhost:8080/"
    },
    "id": "Hr88cQ37EbSW",
    "outputId": "c2bee736-54cd-42fd-84b9-5c2ea2fbc2b8"
   },
   "outputs": [
    {
     "name": "stdout",
     "output_type": "stream",
     "text": [
      "           Category currency  sellerRating  Duration endDay  ClosePrice   \n",
      "0  Music/Movie/Game       US          3249         5    Mon        0.01  \\\n",
      "1  Music/Movie/Game       US          3249         5    Mon        0.01   \n",
      "2  Music/Movie/Game       US          3249         5    Mon        0.01   \n",
      "3  Music/Movie/Game       US          3249         5    Mon        0.01   \n",
      "4  Music/Movie/Game       US          3249         5    Mon        0.01   \n",
      "\n",
      "   OpenPrice  Competitive?  \n",
      "0       0.01             0  \n",
      "1       0.01             0  \n",
      "2       0.01             0  \n",
      "3       0.01             0  \n",
      "4       0.01             0  \n"
     ]
    }
   ],
   "source": [
    "print(df.head())"
   ]
  },
  {
   "cell_type": "code",
   "execution_count": 7,
   "metadata": {
    "colab": {
     "base_uri": "https://localhost:8080/",
     "height": 206
    },
    "id": "API4tIyDEd_t",
    "outputId": "6b22f2d6-e070-4169-d474-8deb0a071ddd"
   },
   "outputs": [
    {
     "data": {
      "text/html": [
       "<div>\n",
       "<style scoped>\n",
       "    .dataframe tbody tr th:only-of-type {\n",
       "        vertical-align: middle;\n",
       "    }\n",
       "\n",
       "    .dataframe tbody tr th {\n",
       "        vertical-align: top;\n",
       "    }\n",
       "\n",
       "    .dataframe thead th {\n",
       "        text-align: right;\n",
       "    }\n",
       "</style>\n",
       "<table border=\"1\" class=\"dataframe\">\n",
       "  <thead>\n",
       "    <tr style=\"text-align: right;\">\n",
       "      <th></th>\n",
       "      <th>Category</th>\n",
       "      <th>currency</th>\n",
       "      <th>sellerRating</th>\n",
       "      <th>Duration</th>\n",
       "      <th>endDay</th>\n",
       "      <th>ClosePrice</th>\n",
       "      <th>OpenPrice</th>\n",
       "      <th>Competitive?</th>\n",
       "    </tr>\n",
       "  </thead>\n",
       "  <tbody>\n",
       "    <tr>\n",
       "      <th>0</th>\n",
       "      <td>Music/Movie/Game</td>\n",
       "      <td>US</td>\n",
       "      <td>3249</td>\n",
       "      <td>5</td>\n",
       "      <td>Mon</td>\n",
       "      <td>0.01</td>\n",
       "      <td>0.01</td>\n",
       "      <td>0</td>\n",
       "    </tr>\n",
       "    <tr>\n",
       "      <th>1</th>\n",
       "      <td>Music/Movie/Game</td>\n",
       "      <td>US</td>\n",
       "      <td>3249</td>\n",
       "      <td>5</td>\n",
       "      <td>Mon</td>\n",
       "      <td>0.01</td>\n",
       "      <td>0.01</td>\n",
       "      <td>0</td>\n",
       "    </tr>\n",
       "    <tr>\n",
       "      <th>2</th>\n",
       "      <td>Music/Movie/Game</td>\n",
       "      <td>US</td>\n",
       "      <td>3249</td>\n",
       "      <td>5</td>\n",
       "      <td>Mon</td>\n",
       "      <td>0.01</td>\n",
       "      <td>0.01</td>\n",
       "      <td>0</td>\n",
       "    </tr>\n",
       "    <tr>\n",
       "      <th>3</th>\n",
       "      <td>Music/Movie/Game</td>\n",
       "      <td>US</td>\n",
       "      <td>3249</td>\n",
       "      <td>5</td>\n",
       "      <td>Mon</td>\n",
       "      <td>0.01</td>\n",
       "      <td>0.01</td>\n",
       "      <td>0</td>\n",
       "    </tr>\n",
       "    <tr>\n",
       "      <th>4</th>\n",
       "      <td>Music/Movie/Game</td>\n",
       "      <td>US</td>\n",
       "      <td>3249</td>\n",
       "      <td>5</td>\n",
       "      <td>Mon</td>\n",
       "      <td>0.01</td>\n",
       "      <td>0.01</td>\n",
       "      <td>0</td>\n",
       "    </tr>\n",
       "  </tbody>\n",
       "</table>\n",
       "</div>"
      ],
      "text/plain": [
       "           Category currency  sellerRating  Duration endDay  ClosePrice   \n",
       "0  Music/Movie/Game       US          3249         5    Mon        0.01  \\\n",
       "1  Music/Movie/Game       US          3249         5    Mon        0.01   \n",
       "2  Music/Movie/Game       US          3249         5    Mon        0.01   \n",
       "3  Music/Movie/Game       US          3249         5    Mon        0.01   \n",
       "4  Music/Movie/Game       US          3249         5    Mon        0.01   \n",
       "\n",
       "   OpenPrice  Competitive?  \n",
       "0       0.01             0  \n",
       "1       0.01             0  \n",
       "2       0.01             0  \n",
       "3       0.01             0  \n",
       "4       0.01             0  "
      ]
     },
     "execution_count": 7,
     "metadata": {},
     "output_type": "execute_result"
    }
   ],
   "source": [
    "df.head()"
   ]
  },
  {
   "cell_type": "code",
   "execution_count": 8,
   "metadata": {
    "id": "EmLZBo3cEfhO"
   },
   "outputs": [],
   "source": [
    "# Convert variable duration into a categorical variable\n",
    "df['Duration'] = df['Duration'].astype('category')"
   ]
  },
  {
   "cell_type": "code",
   "execution_count": 9,
   "metadata": {
    "id": "ru3B6L8jEhZ-"
   },
   "outputs": [],
   "source": [
    "# Split the data into training (60%) and validation (40%) datasets\n",
    "train_df, valid_df = train_test_split(df, test_size=0.4, random_state=1)"
   ]
  },
  {
   "cell_type": "code",
   "execution_count": 10,
   "metadata": {
    "colab": {
     "base_uri": "https://localhost:8080/",
     "height": 75
    },
    "id": "-PNyy6gQEij-",
    "outputId": "5d5e5948-a420-479b-a3c3-d74c81f196bc"
   },
   "outputs": [
    {
     "data": {
      "text/html": [
       "<style>#sk-container-id-1 {color: black;}#sk-container-id-1 pre{padding: 0;}#sk-container-id-1 div.sk-toggleable {background-color: white;}#sk-container-id-1 label.sk-toggleable__label {cursor: pointer;display: block;width: 100%;margin-bottom: 0;padding: 0.3em;box-sizing: border-box;text-align: center;}#sk-container-id-1 label.sk-toggleable__label-arrow:before {content: \"▸\";float: left;margin-right: 0.25em;color: #696969;}#sk-container-id-1 label.sk-toggleable__label-arrow:hover:before {color: black;}#sk-container-id-1 div.sk-estimator:hover label.sk-toggleable__label-arrow:before {color: black;}#sk-container-id-1 div.sk-toggleable__content {max-height: 0;max-width: 0;overflow: hidden;text-align: left;background-color: #f0f8ff;}#sk-container-id-1 div.sk-toggleable__content pre {margin: 0.2em;color: black;border-radius: 0.25em;background-color: #f0f8ff;}#sk-container-id-1 input.sk-toggleable__control:checked~div.sk-toggleable__content {max-height: 200px;max-width: 100%;overflow: auto;}#sk-container-id-1 input.sk-toggleable__control:checked~label.sk-toggleable__label-arrow:before {content: \"▾\";}#sk-container-id-1 div.sk-estimator input.sk-toggleable__control:checked~label.sk-toggleable__label {background-color: #d4ebff;}#sk-container-id-1 div.sk-label input.sk-toggleable__control:checked~label.sk-toggleable__label {background-color: #d4ebff;}#sk-container-id-1 input.sk-hidden--visually {border: 0;clip: rect(1px 1px 1px 1px);clip: rect(1px, 1px, 1px, 1px);height: 1px;margin: -1px;overflow: hidden;padding: 0;position: absolute;width: 1px;}#sk-container-id-1 div.sk-estimator {font-family: monospace;background-color: #f0f8ff;border: 1px dotted black;border-radius: 0.25em;box-sizing: border-box;margin-bottom: 0.5em;}#sk-container-id-1 div.sk-estimator:hover {background-color: #d4ebff;}#sk-container-id-1 div.sk-parallel-item::after {content: \"\";width: 100%;border-bottom: 1px solid gray;flex-grow: 1;}#sk-container-id-1 div.sk-label:hover label.sk-toggleable__label {background-color: #d4ebff;}#sk-container-id-1 div.sk-serial::before {content: \"\";position: absolute;border-left: 1px solid gray;box-sizing: border-box;top: 0;bottom: 0;left: 50%;z-index: 0;}#sk-container-id-1 div.sk-serial {display: flex;flex-direction: column;align-items: center;background-color: white;padding-right: 0.2em;padding-left: 0.2em;position: relative;}#sk-container-id-1 div.sk-item {position: relative;z-index: 1;}#sk-container-id-1 div.sk-parallel {display: flex;align-items: stretch;justify-content: center;background-color: white;position: relative;}#sk-container-id-1 div.sk-item::before, #sk-container-id-1 div.sk-parallel-item::before {content: \"\";position: absolute;border-left: 1px solid gray;box-sizing: border-box;top: 0;bottom: 0;left: 50%;z-index: -1;}#sk-container-id-1 div.sk-parallel-item {display: flex;flex-direction: column;z-index: 1;position: relative;background-color: white;}#sk-container-id-1 div.sk-parallel-item:first-child::after {align-self: flex-end;width: 50%;}#sk-container-id-1 div.sk-parallel-item:last-child::after {align-self: flex-start;width: 50%;}#sk-container-id-1 div.sk-parallel-item:only-child::after {width: 0;}#sk-container-id-1 div.sk-dashed-wrapped {border: 1px dashed gray;margin: 0 0.4em 0.5em 0.4em;box-sizing: border-box;padding-bottom: 0.4em;background-color: white;}#sk-container-id-1 div.sk-label label {font-family: monospace;font-weight: bold;display: inline-block;line-height: 1.2em;}#sk-container-id-1 div.sk-label-container {text-align: center;}#sk-container-id-1 div.sk-container {/* jupyter's `normalize.less` sets `[hidden] { display: none; }` but bootstrap.min.css set `[hidden] { display: none !important; }` so we also need the `!important` here to be able to override the default hidden behavior on the sphinx rendered scikit-learn.org. See: https://github.com/scikit-learn/scikit-learn/issues/21755 */display: inline-block !important;position: relative;}#sk-container-id-1 div.sk-text-repr-fallback {display: none;}</style><div id=\"sk-container-id-1\" class=\"sk-top-container\"><div class=\"sk-text-repr-fallback\"><pre>DecisionTreeClassifier(max_depth=7, min_samples_leaf=50, random_state=1)</pre><b>In a Jupyter environment, please rerun this cell to show the HTML representation or trust the notebook. <br />On GitHub, the HTML representation is unable to render, please try loading this page with nbviewer.org.</b></div><div class=\"sk-container\" hidden><div class=\"sk-item\"><div class=\"sk-estimator sk-toggleable\"><input class=\"sk-toggleable__control sk-hidden--visually\" id=\"sk-estimator-id-1\" type=\"checkbox\" checked><label for=\"sk-estimator-id-1\" class=\"sk-toggleable__label sk-toggleable__label-arrow\">DecisionTreeClassifier</label><div class=\"sk-toggleable__content\"><pre>DecisionTreeClassifier(max_depth=7, min_samples_leaf=50, random_state=1)</pre></div></div></div></div></div>"
      ],
      "text/plain": [
       "DecisionTreeClassifier(max_depth=7, min_samples_leaf=50, random_state=1)"
      ]
     },
     "execution_count": 10,
     "metadata": {},
     "output_type": "execute_result"
    }
   ],
   "source": [
    "# Fit a classification tree\n",
    "predictors = ['ClosePrice', 'OpenPrice']\n",
    "outcome = 'Competitive?'\n",
    "tree_model = DecisionTreeClassifier(min_samples_leaf=50, max_depth=7, random_state=1)\n",
    "tree_model.fit(train_df[predictors], train_df[outcome])"
   ]
  },
  {
   "cell_type": "code",
   "execution_count": 12,
   "metadata": {
    "colab": {
     "base_uri": "https://localhost:8080/"
    },
    "id": "Et-dXMeiEkyd",
    "outputId": "874053af-0a9a-4673-b127-94b3c7a7c294"
   },
   "outputs": [
    {
     "name": "stdout",
     "output_type": "stream",
     "text": [
      "Confusion Matrix (Accuracy 0.8318)\n",
      "\n",
      "       Prediction\n",
      "Actual   0   1\n",
      "     0 485  68\n",
      "     1 131 499\n",
      "Confusion Matrix (Accuracy 0.8048)\n",
      "\n",
      "       Prediction\n",
      "Actual   0   1\n",
      "     0 313  40\n",
      "     1 114 322\n"
     ]
    }
   ],
   "source": [
    "# Confusion Matrix\n",
    "classificationSummary(train_df[outcome], tree_model.predict(train_df[predictors]))\n",
    "classificationSummary(valid_df[outcome], tree_model.predict(valid_df[predictors]))"
   ]
  },
  {
   "cell_type": "code",
   "execution_count": 13,
   "metadata": {
    "id": "oTgSnMREEl2t"
   },
   "outputs": [],
   "source": [
    "# Normalize data\n",
    "scaler = StandardScaler()\n",
    "scaler.fit(train_df[predictors])\n",
    "train_X = scaler.transform(train_df[predictors])\n",
    "train_y = train_df[outcome]\n",
    "valid_X = scaler.transform(valid_df[predictors])\n",
    "valid_y = valid_df[outcome]"
   ]
  },
  {
   "cell_type": "code",
   "execution_count": 14,
   "metadata": {
    "colab": {
     "base_uri": "https://localhost:8080/",
     "height": 990
    },
    "id": "d0nUivmnEm5n",
    "outputId": "f6a9ecf2-7137-4fc4-f415-53d0c017b4b5"
   },
   "outputs": [
    {
     "data": {
      "text/html": [
       "<div>\n",
       "<style scoped>\n",
       "    .dataframe tbody tr th:only-of-type {\n",
       "        vertical-align: middle;\n",
       "    }\n",
       "\n",
       "    .dataframe tbody tr th {\n",
       "        vertical-align: top;\n",
       "    }\n",
       "\n",
       "    .dataframe thead th {\n",
       "        text-align: right;\n",
       "    }\n",
       "</style>\n",
       "<table border=\"1\" class=\"dataframe\">\n",
       "  <thead>\n",
       "    <tr style=\"text-align: right;\">\n",
       "      <th></th>\n",
       "      <th>k</th>\n",
       "      <th>training_accuracy</th>\n",
       "      <th>validation_accuracy</th>\n",
       "    </tr>\n",
       "  </thead>\n",
       "  <tbody>\n",
       "    <tr>\n",
       "      <th>0</th>\n",
       "      <td>1</td>\n",
       "      <td>0.947591</td>\n",
       "      <td>0.898606</td>\n",
       "    </tr>\n",
       "    <tr>\n",
       "      <th>1</th>\n",
       "      <td>2</td>\n",
       "      <td>0.952663</td>\n",
       "      <td>0.913815</td>\n",
       "    </tr>\n",
       "    <tr>\n",
       "      <th>2</th>\n",
       "      <td>3</td>\n",
       "      <td>0.950127</td>\n",
       "      <td>0.917617</td>\n",
       "    </tr>\n",
       "    <tr>\n",
       "      <th>3</th>\n",
       "      <td>4</td>\n",
       "      <td>0.924768</td>\n",
       "      <td>0.894804</td>\n",
       "    </tr>\n",
       "    <tr>\n",
       "      <th>4</th>\n",
       "      <td>5</td>\n",
       "      <td>0.929839</td>\n",
       "      <td>0.899873</td>\n",
       "    </tr>\n",
       "    <tr>\n",
       "      <th>5</th>\n",
       "      <td>6</td>\n",
       "      <td>0.921386</td>\n",
       "      <td>0.896071</td>\n",
       "    </tr>\n",
       "    <tr>\n",
       "      <th>6</th>\n",
       "      <td>7</td>\n",
       "      <td>0.916314</td>\n",
       "      <td>0.896071</td>\n",
       "    </tr>\n",
       "    <tr>\n",
       "      <th>7</th>\n",
       "      <td>8</td>\n",
       "      <td>0.901944</td>\n",
       "      <td>0.893536</td>\n",
       "    </tr>\n",
       "    <tr>\n",
       "      <th>8</th>\n",
       "      <td>9</td>\n",
       "      <td>0.898563</td>\n",
       "      <td>0.893536</td>\n",
       "    </tr>\n",
       "    <tr>\n",
       "      <th>9</th>\n",
       "      <td>10</td>\n",
       "      <td>0.881657</td>\n",
       "      <td>0.885932</td>\n",
       "    </tr>\n",
       "    <tr>\n",
       "      <th>10</th>\n",
       "      <td>11</td>\n",
       "      <td>0.887574</td>\n",
       "      <td>0.892269</td>\n",
       "    </tr>\n",
       "    <tr>\n",
       "      <th>11</th>\n",
       "      <td>12</td>\n",
       "      <td>0.877430</td>\n",
       "      <td>0.883397</td>\n",
       "    </tr>\n",
       "    <tr>\n",
       "      <th>12</th>\n",
       "      <td>13</td>\n",
       "      <td>0.878276</td>\n",
       "      <td>0.883397</td>\n",
       "    </tr>\n",
       "    <tr>\n",
       "      <th>13</th>\n",
       "      <td>14</td>\n",
       "      <td>0.870668</td>\n",
       "      <td>0.873257</td>\n",
       "    </tr>\n",
       "    <tr>\n",
       "      <th>14</th>\n",
       "      <td>15</td>\n",
       "      <td>0.869822</td>\n",
       "      <td>0.870722</td>\n",
       "    </tr>\n",
       "    <tr>\n",
       "      <th>15</th>\n",
       "      <td>16</td>\n",
       "      <td>0.863905</td>\n",
       "      <td>0.864385</td>\n",
       "    </tr>\n",
       "    <tr>\n",
       "      <th>16</th>\n",
       "      <td>17</td>\n",
       "      <td>0.865596</td>\n",
       "      <td>0.866920</td>\n",
       "    </tr>\n",
       "    <tr>\n",
       "      <th>17</th>\n",
       "      <td>18</td>\n",
       "      <td>0.860524</td>\n",
       "      <td>0.860583</td>\n",
       "    </tr>\n",
       "    <tr>\n",
       "      <th>18</th>\n",
       "      <td>19</td>\n",
       "      <td>0.863060</td>\n",
       "      <td>0.861850</td>\n",
       "    </tr>\n",
       "    <tr>\n",
       "      <th>19</th>\n",
       "      <td>20</td>\n",
       "      <td>0.858833</td>\n",
       "      <td>0.859316</td>\n",
       "    </tr>\n",
       "    <tr>\n",
       "      <th>20</th>\n",
       "      <td>21</td>\n",
       "      <td>0.862215</td>\n",
       "      <td>0.856781</td>\n",
       "    </tr>\n",
       "    <tr>\n",
       "      <th>21</th>\n",
       "      <td>22</td>\n",
       "      <td>0.856298</td>\n",
       "      <td>0.854246</td>\n",
       "    </tr>\n",
       "    <tr>\n",
       "      <th>22</th>\n",
       "      <td>23</td>\n",
       "      <td>0.850380</td>\n",
       "      <td>0.841572</td>\n",
       "    </tr>\n",
       "    <tr>\n",
       "      <th>23</th>\n",
       "      <td>24</td>\n",
       "      <td>0.841082</td>\n",
       "      <td>0.839037</td>\n",
       "    </tr>\n",
       "    <tr>\n",
       "      <th>24</th>\n",
       "      <td>25</td>\n",
       "      <td>0.844463</td>\n",
       "      <td>0.841572</td>\n",
       "    </tr>\n",
       "    <tr>\n",
       "      <th>25</th>\n",
       "      <td>26</td>\n",
       "      <td>0.836010</td>\n",
       "      <td>0.836502</td>\n",
       "    </tr>\n",
       "    <tr>\n",
       "      <th>26</th>\n",
       "      <td>27</td>\n",
       "      <td>0.836855</td>\n",
       "      <td>0.837769</td>\n",
       "    </tr>\n",
       "    <tr>\n",
       "      <th>27</th>\n",
       "      <td>28</td>\n",
       "      <td>0.833474</td>\n",
       "      <td>0.835234</td>\n",
       "    </tr>\n",
       "    <tr>\n",
       "      <th>28</th>\n",
       "      <td>29</td>\n",
       "      <td>0.835165</td>\n",
       "      <td>0.836502</td>\n",
       "    </tr>\n",
       "    <tr>\n",
       "      <th>29</th>\n",
       "      <td>30</td>\n",
       "      <td>0.830938</td>\n",
       "      <td>0.835234</td>\n",
       "    </tr>\n",
       "  </tbody>\n",
       "</table>\n",
       "</div>"
      ],
      "text/plain": [
       "     k  training_accuracy  validation_accuracy\n",
       "0    1           0.947591             0.898606\n",
       "1    2           0.952663             0.913815\n",
       "2    3           0.950127             0.917617\n",
       "3    4           0.924768             0.894804\n",
       "4    5           0.929839             0.899873\n",
       "5    6           0.921386             0.896071\n",
       "6    7           0.916314             0.896071\n",
       "7    8           0.901944             0.893536\n",
       "8    9           0.898563             0.893536\n",
       "9   10           0.881657             0.885932\n",
       "10  11           0.887574             0.892269\n",
       "11  12           0.877430             0.883397\n",
       "12  13           0.878276             0.883397\n",
       "13  14           0.870668             0.873257\n",
       "14  15           0.869822             0.870722\n",
       "15  16           0.863905             0.864385\n",
       "16  17           0.865596             0.866920\n",
       "17  18           0.860524             0.860583\n",
       "18  19           0.863060             0.861850\n",
       "19  20           0.858833             0.859316\n",
       "20  21           0.862215             0.856781\n",
       "21  22           0.856298             0.854246\n",
       "22  23           0.850380             0.841572\n",
       "23  24           0.841082             0.839037\n",
       "24  25           0.844463             0.841572\n",
       "25  26           0.836010             0.836502\n",
       "26  27           0.836855             0.837769\n",
       "27  28           0.833474             0.835234\n",
       "28  29           0.835165             0.836502\n",
       "29  30           0.830938             0.835234"
      ]
     },
     "execution_count": 14,
     "metadata": {},
     "output_type": "execute_result"
    }
   ],
   "source": [
    "# Train a classifier for different values of k\n",
    "results = []\n",
    "for k in range(1, 31, 1):\n",
    "    knn = KNeighborsClassifier(n_neighbors=k).fit(train_X, train_y)\n",
    "    results.append({\n",
    "        'k': k,\n",
    "        'training_accuracy': accuracy_score(train_y, knn.predict(train_X)),\n",
    "        'validation_accuracy': accuracy_score(valid_y, knn.predict(valid_X))\n",
    "    })\n",
    "\n",
    "# Convert results to a pandas data frame\n",
    "results = pd.DataFrame(results)\n",
    "results"
   ]
  },
  {
   "cell_type": "code",
   "execution_count": 15,
   "metadata": {
    "id": "lI57WoM_EoQe"
   },
   "outputs": [],
   "source": [
    "tree_probs = tree_model.predict_proba(valid_df[predictors])[:, 1]\n",
    "knn_probs = knn.predict_proba(valid_X)[:, 1]"
   ]
  },
  {
   "cell_type": "code",
   "execution_count": 16,
   "metadata": {
    "id": "ya-a70VdEp--"
   },
   "outputs": [],
   "source": [
    "from sklearn.metrics import confusion_matrix, roc_curve, auc\n",
    "fpr_tree, tpr_tree, _ = roc_curve(valid_df[outcome], tree_probs)\n",
    "fpr_knn, tpr_knn, _ = roc_curve(valid_df[outcome], knn_probs)\n",
    "roc_auc_tree = auc(fpr_tree, tpr_tree)\n",
    "roc_auc_knn = auc(fpr_knn, tpr_knn)"
   ]
  },
  {
   "cell_type": "code",
   "execution_count": 17,
   "metadata": {
    "colab": {
     "base_uri": "https://localhost:8080/",
     "height": 472
    },
    "id": "49X-B1vhEq2u",
    "outputId": "cb835cf7-e38b-4577-e222-dda04d064b2d"
   },
   "outputs": [
    {
     "data": {
      "image/png": "[encoded data removed]",
      "text/plain": [
       "<Figure size 640x480 with 1 Axes>"
      ]
     },
     "metadata": {},
     "output_type": "display_data"
    }
   ],
   "source": [
    "# Plot ROC curve\n",
    "plt.figure()\n",
    "lw = 2\n",
    "plt.plot(fpr_tree, tpr_tree, color='darkorange', lw=lw, label=f'Tree ROC curve (area = {roc_auc_tree:.2f})')\n",
    "plt.plot(fpr_knn, tpr_knn, color='blue', lw=lw, label=f'kNN ROC curve (area = {roc_auc_knn:.2f})')\n",
    "plt.plot([0, 1], [0, 1], color='navy', lw=lw, linestyle='--')\n",
    "plt.xlim([0.0, 1.0])\n",
    "plt.ylim([0.0, 1.05])\n",
    "plt.xlabel('False Positive Rate')\n",
    "plt.ylabel('True Positive Rate')\n",
    "plt.title('Receiver Operating Characteristic')\n",
    "plt.legend(loc=\"lower right\")\n",
    "plt.show()"
   ]
  },
  {
   "cell_type": "code",
   "execution_count": 18,
   "metadata": {
    "id": "ANko_FlqEsre"
   },
   "outputs": [],
   "source": [
    "# KNN Model with has higher AUC value therefore is more accurate."
   ]
  }
 ],
 "metadata": {
  "colab": {
   "provenance": []
  },
  "kernelspec": {
   "display_name": "Python 3 (ipykernel)",
   "language": "python",
   "name": "python3"
  },
  "language_info": {
   "codemirror_mode": {
    "name": "ipython",
    "version": 3
   },
   "file_extension": ".py",
   "mimetype": "text/x-python",
   "name": "python",
   "nbconvert_exporter": "python",
   "pygments_lexer": "ipython3",
   "version": "3.11.0"
  }
 },
 "nbformat": 4,
 "nbformat_minor": 4
}
